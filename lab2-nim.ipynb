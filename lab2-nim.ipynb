{
 "cells": [
  {
   "cell_type": "markdown",
   "metadata": {
    "pycharm": {
     "name": "#%% md\n"
    }
   },
   "source": [
    "Copyright **`(c)`** 2022 Giovanni Squillero `<squillero@polito.it>`  \n",
    "[`https://github.com/squillero/computational-intelligence`](https://github.com/squillero/computational-intelligence)  \n",
    "Free for personal or classroom use; see [`LICENSE.md`](https://github.com/squillero/computational-intelligence/blob/master/LICENSE.md) for details.  \n"
   ]
  },
  {
   "cell_type": "markdown",
   "metadata": {
    "pycharm": {
     "name": "#%%\n"
    }
   },
   "source": [
    "# Lab 3: ES\n",
    "\n",
    "## Task\n",
    "\n",
    "Write agents able to play [*Nim*](https://en.wikipedia.org/wiki/Nim), with an arbitrary number of rows and an upper bound $k$ on the number of objects that can be removed in a turn (a.k.a., *subtraction game*).\n",
    "\n",
    "The goal of the game is to **avoid** taking the last object.\n",
    "\n",
    "* Task2.1: An agent using fixed rules based on *nim-sum* (i.e., an *expert system*)\n",
    "* Task2.2: An agent using evolved rules using ES\n",
    "\n",
    "## Instructions\n",
    "\n",
    "* Create the directory `lab2` inside the course repo \n",
    "* Put a `README.md` and your solution (all the files, code and auxiliary data if needed)\n",
    "\n",
    "## Notes\n",
    "\n",
    "* Working in group is not only allowed, but recommended (see: [Ubuntu](https://en.wikipedia.org/wiki/Ubuntu_philosophy) and [Cooperative Learning](https://files.eric.ed.gov/fulltext/EJ1096789.pdf)). Collaborations must be explicitly declared in the `README.md`.\n",
    "* [Yanking](https://www.emacswiki.org/emacs/KillingAndYanking) from the internet is allowed, but sources must be explicitly declared in the `README.md`.\n",
    "\n"
   ]
  },
  {
   "cell_type": "code",
   "execution_count": 871,
   "metadata": {},
   "outputs": [],
   "source": [
    "import logging\n",
    "from pprint import pprint, pformat\n",
    "from collections import namedtuple\n",
    "import random\n",
    "from dataclasses import dataclass \n",
    "from copy import deepcopy\n"
   ]
  },
  {
   "cell_type": "markdown",
   "metadata": {},
   "source": [
    "## The *Nim* and *Nimply* classes"
   ]
  },
  {
   "cell_type": "code",
   "execution_count": 872,
   "metadata": {},
   "outputs": [],
   "source": [
    "Nimply = namedtuple(\"Nimply\", \"row, num_objects\")\n"
   ]
  },
  {
   "cell_type": "code",
   "execution_count": 873,
   "metadata": {},
   "outputs": [],
   "source": [
    "class Nim:\n",
    "    def __init__(self, num_rows: int, k: int = None) -> None:\n",
    "        self._rows = [i * 2 + 1 for i in range(num_rows)]\n",
    "        self._k = k\n",
    "\n",
    "    def __bool__(self):\n",
    "        return sum(self._rows) > 0\n",
    "\n",
    "    def __str__(self):\n",
    "        return \"<\" + \" \".join(str(_) for _ in self._rows) + \">\"\n",
    "\n",
    "    @property\n",
    "    def rows(self) -> tuple:\n",
    "        return tuple(self._rows)\n",
    "\n",
    "    def nimming(self, ply: Nimply) -> None:\n",
    "        row, num_objects = ply\n",
    "        assert self._rows[row] >= num_objects\n",
    "        assert self._k is None or num_objects <= self._k\n",
    "        self._rows[row] -= num_objects\n"
   ]
  },
  {
   "cell_type": "markdown",
   "metadata": {},
   "source": [
    "## Sample (and silly) startegies "
   ]
  },
  {
   "cell_type": "code",
   "execution_count": 874,
   "metadata": {},
   "outputs": [],
   "source": [
    "def pure_random(state: Nim) -> Nimply:\n",
    "    \"\"\"A completely random move\"\"\"\n",
    "    row = random.choice([r for r, c in enumerate(state.rows) if c > 0])\n",
    "    num_objects = random.randint(1, state.rows[row])\n",
    "    return Nimply(row, num_objects)\n"
   ]
  },
  {
   "cell_type": "code",
   "execution_count": 875,
   "metadata": {},
   "outputs": [],
   "source": [
    "def gabriele(state: Nim) -> Nimply:\n",
    "    \"\"\"Pick always the maximum possible number of the lowest row\"\"\"\n",
    "    possible_moves = [(r, o) for r, c in enumerate(state.rows) for o in range(1, c + 1)]\n",
    "    return Nimply(*max(possible_moves, key=lambda m: (-m[0], m[1])))\n"
   ]
  },
  {
   "cell_type": "code",
   "execution_count": 876,
   "metadata": {},
   "outputs": [],
   "source": [
    "def adaptive(state: Nim) -> Nimply:\n",
    "    \"\"\"A strategy that can adapt its parameters\"\"\"\n",
    "    genome = {\"love_small\": 0.5}\n"
   ]
  },
  {
   "cell_type": "code",
   "execution_count": 877,
   "metadata": {},
   "outputs": [],
   "source": [
    "import numpy as np\n",
    "\n",
    "# Returns the nim sum of the rows (binary rappresentation XOR)\n",
    "def nim_sum(state: Nim) -> int:\n",
    "    tmp = np.array([tuple(int(x) for x in f\"{c:032b}\") for c in state.rows])\n",
    "    xor = tmp.sum(axis=0) % 2\n",
    "    return int(\"\".join(str(_) for _ in xor), base=2)\n",
    "\n",
    "# Create a dictionary that contains all possible (valid) moves\n",
    "def analize(raw: Nim) -> dict:\n",
    "    cooked = dict()\n",
    "    cooked[\"possible_moves\"] = dict()\n",
    "    for ply in (Nimply(r, o) for r, c in enumerate(raw.rows) for o in range(1, c + 1)):\n",
    "        tmp = deepcopy(raw)\n",
    "        tmp.nimming(ply)\n",
    "        cooked[\"possible_moves\"][ply] = nim_sum(tmp)\n",
    "    return cooked\n",
    "\n",
    "# Returns the best moves that return a \n",
    "def optimal(state: Nim) -> Nimply:\n",
    "    analysis = analize(state)\n",
    "    logging.debug(f\"analysis:\\n{pformat(analysis)}\")\n",
    "    spicy_moves = [ply for ply, ns in analysis[\"possible_moves\"].items() if ns != 0]\n",
    "    if not spicy_moves:\n",
    "        spicy_moves = list(analysis[\"possible_moves\"].keys())\n",
    "    ply = random.choice(spicy_moves)\n",
    "    return ply\n"
   ]
  },
  {
   "cell_type": "code",
   "execution_count": 878,
   "metadata": {},
   "outputs": [],
   "source": [
    "def get_number_of_rows(state:Nim):\n",
    "    n=np.count_nonzero(state.rows)\n",
    "    return n\n",
    "\n",
    "def human(state:Nim) ->Nimply:\n",
    "    while(True):\n",
    "        print(f\"{state} nim sum: {nim_sum(state)} and not zero columns: {get_number_of_rows(state)}\")\n",
    "        print(\"Write the row\")\n",
    "        r=int(input())\n",
    "        print(\"Write the number of elements to take\")\n",
    "        o=int(input())\n",
    "\n",
    "        if r<len(state.rows) and o<=state.rows[r]:\n",
    "            return Nimply(r,o)\n",
    "\n",
    "\n",
    "\n",
    "def vinzgorithm(state: Nim) -> Nimply:\n",
    "    ns=nim_sum(state)\n",
    "    \n",
    "    if(get_number_of_rows(state)>=2):\n",
    "        return Nimply(int(np.argmax(state.rows)), int(np.max(state.rows)))\n",
    "    else:\n",
    "        moves=[Nimply(r,c-1) for r,c in enumerate(state.rows) if(c>1)]\n",
    "    \n",
    "    logging.info(f\"len: {len(moves)} nin_sum: {ns}\")\n",
    "    if(len(moves)==0):\n",
    "        moves=[Nimply(n,o) for n,c in enumerate(state.rows) for o in range(1,c+1)]\n",
    "    ply=random.choice(moves)\n",
    "    return ply\n",
    "\n",
    "    \n",
    "def play(strategy1, strategy2, orig_nim, times):\n",
    "    strategy=(strategy1,strategy2)\n",
    "    win0=0\n",
    "    for _ in range(times):\n",
    "        nim=deepcopy(orig_nim)\n",
    "        logging.info(f\"init : {nim}\")\n",
    "        player = 0\n",
    "        while nim:\n",
    "            ply = strategy[player](nim)\n",
    "            logging.info(f\"ply: player {player} plays {ply}\")\n",
    "            nim.nimming(ply)\n",
    "            logging.info(f\"status: {nim}\")\n",
    "            player = 1 - player\n",
    "        logging.info(f\"status: Player {player} won!\")\n",
    "        if(player==0):\n",
    "            win0+=1\n",
    "    return win0/times, 1-win0/times\n",
    "    "
   ]
  },
  {
   "cell_type": "code",
   "execution_count": 879,
   "metadata": {},
   "outputs": [],
   "source": [
    "def enum_state(rows:tuple):\n",
    "    possible_states=[rows]\n",
    "    temp=rows\n",
    "    for r in range(len(rows)):\n",
    "        temp_list=[]\n",
    "        for i in possible_states:\n",
    "            temp=list(i)\n",
    "            assert type(temp)!=int\n",
    "            \n",
    "            while (temp[r]>0):\n",
    "                temp[r]-=1\n",
    "                temp_list.append(tuple(temp))\n",
    "        possible_states.extend(temp_list)\n",
    "    \n",
    "    print(len(possible_states))\n",
    "    return possible_states\n",
    "\n"
   ]
  },
  {
   "cell_type": "markdown",
   "metadata": {},
   "source": [
    "## Oversimplified match"
   ]
  },
  {
   "cell_type": "code",
   "execution_count": 880,
   "metadata": {},
   "outputs": [
    {
     "name": "stdout",
     "output_type": "stream",
     "text": [
      "48\n"
     ]
    }
   ],
   "source": [
    "SIZE=3\n",
    "\n",
    "default_state=Nim(SIZE)\n",
    "\n",
    "possible_states=enum_state(default_state.rows)\n",
    "\n",
    "class Individual:\n",
    "    genome=dict()\n",
    "    def __init__(self):\n",
    "        global possible_states, default_state\n",
    "        \n",
    "        for t in possible_states:\n",
    "            moves=[Nimply(r,o) for r,c in enumerate(t) for o in range(1,c+1)]\n",
    "            if(len(moves)!=0):\n",
    "                self.genome[t]=random.choice(moves)\n",
    "            else:\n",
    "                self.genome[t]=Nimply(0,0)\n",
    "        \n",
    "    def strategy(self, state:Nim):\n",
    "        return self.genome[state.rows]\n",
    "\n",
    "\n",
    "def crossover(individual1:Individual, individual2:Individual):\n",
    "    global possible_states\n",
    "    individual3=Individual()\n",
    "    individual4=Individual()\n",
    "    for t in possible_states:\n",
    "        if random.choice([True,False]):\n",
    "            individual3.genome[t]=individual1.genome[t]\n",
    "            individual4.genome[t]=individual2.genome[t]\n",
    "        else:\n",
    "            individual4.genome[t]=individual1.genome[t]\n",
    "            individual3.genome[t]=individual2.genome[t]\n",
    "    return individual3, individual4\n",
    "\n",
    "def compare(individual1, individual2):\n",
    "    nim=deepcopy(default_state)\n",
    "\n",
    "    strategy=(individual1,individual2)\n",
    "    assert type(individual1)==Individual\n",
    "    assert type(individual2)==Individual\n",
    "    assert type(strategy[0])==Individual\n",
    "    player = 0\n",
    "    while nim:\n",
    "        ply = strategy[player].genome[nim.rows]\n",
    "        nim.nimming(ply)\n",
    "        player = 1 - player\n",
    "    return strategy[player]\n",
    "\n",
    "\n",
    "def eval(individual1, test):\n",
    "    nim=deepcopy(default_state)\n",
    "\n",
    "    strategy=(test, individual1.strategy)\n",
    "    player = 0\n",
    "    while nim:\n",
    "        ply = strategy[player](nim)\n",
    "        nim.nimming(ply)\n",
    "        player = 1 - player\n",
    "    return player==1\n",
    "\n",
    "def evolve(power_of_two:int):\n",
    "    n=2**power_of_two\n",
    "    individuals=[Individual() for _ in range(n)]\n",
    "    \n",
    "    while(True):\n",
    "        new_gen=[]\n",
    "        for i in range(0,n,2):\n",
    "            new_gen.append(compare(individuals[i], individuals[i+1]))\n",
    "        \n",
    "        if(len(new_gen)==1):\n",
    "            return new_gen[0]\n",
    "        \n",
    "        individuals=[]\n",
    "        for j in range(0,len(new_gen),2):\n",
    "            individuals.extend(crossover(new_gen[j], new_gen[j+1]))\n",
    "            \n",
    "        n=len(individuals)\n",
    "\n",
    "\n",
    "def evolve2(power_of_two:int):\n",
    "    n=2**power_of_two\n",
    "    individuals=[Individual() for _ in range(n)]\n",
    "    \n",
    "    while(True):\n",
    "        new_gen=[]\n",
    "        for i in range(0,n,2):\n",
    "            if(eval(individuals[i], optimal)):\n",
    "                new_gen.append(individuals[i])\n",
    "        \n",
    "        if(len(new_gen)==1):\n",
    "            return new_gen[0]\n",
    "        if(len(new_gen)==0):\n",
    "            return individuals[0]\n",
    "        \n",
    "        individuals=[]\n",
    "        for j in range(0,len(new_gen),2):\n",
    "            if j+1==len(new_gen):\n",
    "                individuals.append(new_gen[j])\n",
    "            else:\n",
    "                individuals.extend(crossover(new_gen[j], new_gen[j+1]))\n",
    "            \n",
    "        n=len(individuals)\n",
    "\n",
    "\n",
    "    "
   ]
  },
  {
   "cell_type": "code",
   "execution_count": 881,
   "metadata": {},
   "outputs": [
    {
     "ename": "KeyboardInterrupt",
     "evalue": "",
     "output_type": "error",
     "traceback": [
      "\u001b[1;31m---------------------------------------------------------------------------\u001b[0m",
      "\u001b[1;31mKeyboardInterrupt\u001b[0m                         Traceback (most recent call last)",
      "\u001b[1;32mc:\\Users\\vicin\\Desktop\\PoliTo\\CompInt\\lab2-nim.ipynb Cell 16\u001b[0m line \u001b[0;36m7\n\u001b[0;32m      <a href='vscode-notebook-cell:/c%3A/Users/vicin/Desktop/PoliTo/CompInt/lab2-nim.ipynb#X16sZmlsZQ%3D%3D?line=2'>3</a>\u001b[0m strategy \u001b[39m=\u001b[39m (vinzgorithm, optimal)\n\u001b[0;32m      <a href='vscode-notebook-cell:/c%3A/Users/vicin/Desktop/PoliTo/CompInt/lab2-nim.ipynb#X16sZmlsZQ%3D%3D?line=4'>5</a>\u001b[0m nim \u001b[39m=\u001b[39m Nim(SIZE)\n\u001b[1;32m----> <a href='vscode-notebook-cell:/c%3A/Users/vicin/Desktop/PoliTo/CompInt/lab2-nim.ipynb#X16sZmlsZQ%3D%3D?line=6'>7</a>\u001b[0m last_man_standing\u001b[39m=\u001b[39mevolve(\u001b[39m21\u001b[39;49m)\n\u001b[0;32m      <a href='vscode-notebook-cell:/c%3A/Users/vicin/Desktop/PoliTo/CompInt/lab2-nim.ipynb#X16sZmlsZQ%3D%3D?line=8'>9</a>\u001b[0m w0, w1\u001b[39m=\u001b[39mplay(optimal, last_man_standing\u001b[39m.\u001b[39mstrategy, nim, \u001b[39m100\u001b[39m)\n\u001b[0;32m     <a href='vscode-notebook-cell:/c%3A/Users/vicin/Desktop/PoliTo/CompInt/lab2-nim.ipynb#X16sZmlsZQ%3D%3D?line=10'>11</a>\u001b[0m \u001b[39m# enum_state(nim)\u001b[39;00m\n",
      "\u001b[1;32mc:\\Users\\vicin\\Desktop\\PoliTo\\CompInt\\lab2-nim.ipynb Cell 16\u001b[0m line \u001b[0;36m6\n\u001b[0;32m     <a href='vscode-notebook-cell:/c%3A/Users/vicin/Desktop/PoliTo/CompInt/lab2-nim.ipynb#X16sZmlsZQ%3D%3D?line=61'>62</a>\u001b[0m \u001b[39mdef\u001b[39;00m \u001b[39mevolve\u001b[39m(power_of_two:\u001b[39mint\u001b[39m):\n\u001b[0;32m     <a href='vscode-notebook-cell:/c%3A/Users/vicin/Desktop/PoliTo/CompInt/lab2-nim.ipynb#X16sZmlsZQ%3D%3D?line=62'>63</a>\u001b[0m     n\u001b[39m=\u001b[39m\u001b[39m2\u001b[39m\u001b[39m*\u001b[39m\u001b[39m*\u001b[39mpower_of_two\n\u001b[1;32m---> <a href='vscode-notebook-cell:/c%3A/Users/vicin/Desktop/PoliTo/CompInt/lab2-nim.ipynb#X16sZmlsZQ%3D%3D?line=63'>64</a>\u001b[0m     individuals\u001b[39m=\u001b[39m[Individual() \u001b[39mfor\u001b[39;00m _ \u001b[39min\u001b[39;00m \u001b[39mrange\u001b[39m(n)]\n\u001b[0;32m     <a href='vscode-notebook-cell:/c%3A/Users/vicin/Desktop/PoliTo/CompInt/lab2-nim.ipynb#X16sZmlsZQ%3D%3D?line=65'>66</a>\u001b[0m     \u001b[39mwhile\u001b[39;00m(\u001b[39mTrue\u001b[39;00m):\n\u001b[0;32m     <a href='vscode-notebook-cell:/c%3A/Users/vicin/Desktop/PoliTo/CompInt/lab2-nim.ipynb#X16sZmlsZQ%3D%3D?line=66'>67</a>\u001b[0m         new_gen\u001b[39m=\u001b[39m[]\n",
      "\u001b[1;32mc:\\Users\\vicin\\Desktop\\PoliTo\\CompInt\\lab2-nim.ipynb Cell 16\u001b[0m line \u001b[0;36m6\n\u001b[0;32m     <a href='vscode-notebook-cell:/c%3A/Users/vicin/Desktop/PoliTo/CompInt/lab2-nim.ipynb#X16sZmlsZQ%3D%3D?line=61'>62</a>\u001b[0m \u001b[39mdef\u001b[39;00m \u001b[39mevolve\u001b[39m(power_of_two:\u001b[39mint\u001b[39m):\n\u001b[0;32m     <a href='vscode-notebook-cell:/c%3A/Users/vicin/Desktop/PoliTo/CompInt/lab2-nim.ipynb#X16sZmlsZQ%3D%3D?line=62'>63</a>\u001b[0m     n\u001b[39m=\u001b[39m\u001b[39m2\u001b[39m\u001b[39m*\u001b[39m\u001b[39m*\u001b[39mpower_of_two\n\u001b[1;32m---> <a href='vscode-notebook-cell:/c%3A/Users/vicin/Desktop/PoliTo/CompInt/lab2-nim.ipynb#X16sZmlsZQ%3D%3D?line=63'>64</a>\u001b[0m     individuals\u001b[39m=\u001b[39m[Individual() \u001b[39mfor\u001b[39;00m _ \u001b[39min\u001b[39;00m \u001b[39mrange\u001b[39m(n)]\n\u001b[0;32m     <a href='vscode-notebook-cell:/c%3A/Users/vicin/Desktop/PoliTo/CompInt/lab2-nim.ipynb#X16sZmlsZQ%3D%3D?line=65'>66</a>\u001b[0m     \u001b[39mwhile\u001b[39;00m(\u001b[39mTrue\u001b[39;00m):\n\u001b[0;32m     <a href='vscode-notebook-cell:/c%3A/Users/vicin/Desktop/PoliTo/CompInt/lab2-nim.ipynb#X16sZmlsZQ%3D%3D?line=66'>67</a>\u001b[0m         new_gen\u001b[39m=\u001b[39m[]\n",
      "\u001b[1;32mc:\\Users\\vicin\\Desktop\\PoliTo\\CompInt\\lab2-nim.ipynb Cell 16\u001b[0m line \u001b[0;36m1\n\u001b[0;32m     <a href='vscode-notebook-cell:/c%3A/Users/vicin/Desktop/PoliTo/CompInt/lab2-nim.ipynb#X16sZmlsZQ%3D%3D?line=9'>10</a>\u001b[0m \u001b[39mglobal\u001b[39;00m possible_states, default_state\n\u001b[0;32m     <a href='vscode-notebook-cell:/c%3A/Users/vicin/Desktop/PoliTo/CompInt/lab2-nim.ipynb#X16sZmlsZQ%3D%3D?line=11'>12</a>\u001b[0m \u001b[39mfor\u001b[39;00m t \u001b[39min\u001b[39;00m possible_states:\n\u001b[1;32m---> <a href='vscode-notebook-cell:/c%3A/Users/vicin/Desktop/PoliTo/CompInt/lab2-nim.ipynb#X16sZmlsZQ%3D%3D?line=12'>13</a>\u001b[0m     moves\u001b[39m=\u001b[39m[Nimply(r,o) \u001b[39mfor\u001b[39;00m r,c \u001b[39min\u001b[39;00m \u001b[39menumerate\u001b[39m(t) \u001b[39mfor\u001b[39;00m o \u001b[39min\u001b[39;00m \u001b[39mrange\u001b[39m(\u001b[39m1\u001b[39m,c\u001b[39m+\u001b[39m\u001b[39m1\u001b[39m)]\n\u001b[0;32m     <a href='vscode-notebook-cell:/c%3A/Users/vicin/Desktop/PoliTo/CompInt/lab2-nim.ipynb#X16sZmlsZQ%3D%3D?line=13'>14</a>\u001b[0m     \u001b[39mif\u001b[39;00m(\u001b[39mlen\u001b[39m(moves)\u001b[39m!=\u001b[39m\u001b[39m0\u001b[39m):\n\u001b[0;32m     <a href='vscode-notebook-cell:/c%3A/Users/vicin/Desktop/PoliTo/CompInt/lab2-nim.ipynb#X16sZmlsZQ%3D%3D?line=14'>15</a>\u001b[0m         \u001b[39mself\u001b[39m\u001b[39m.\u001b[39mgenome[t]\u001b[39m=\u001b[39mrandom\u001b[39m.\u001b[39mchoice(moves)\n",
      "\u001b[1;32mc:\\Users\\vicin\\Desktop\\PoliTo\\CompInt\\lab2-nim.ipynb Cell 16\u001b[0m line \u001b[0;36m1\n\u001b[0;32m     <a href='vscode-notebook-cell:/c%3A/Users/vicin/Desktop/PoliTo/CompInt/lab2-nim.ipynb#X16sZmlsZQ%3D%3D?line=9'>10</a>\u001b[0m \u001b[39mglobal\u001b[39;00m possible_states, default_state\n\u001b[0;32m     <a href='vscode-notebook-cell:/c%3A/Users/vicin/Desktop/PoliTo/CompInt/lab2-nim.ipynb#X16sZmlsZQ%3D%3D?line=11'>12</a>\u001b[0m \u001b[39mfor\u001b[39;00m t \u001b[39min\u001b[39;00m possible_states:\n\u001b[1;32m---> <a href='vscode-notebook-cell:/c%3A/Users/vicin/Desktop/PoliTo/CompInt/lab2-nim.ipynb#X16sZmlsZQ%3D%3D?line=12'>13</a>\u001b[0m     moves\u001b[39m=\u001b[39m[Nimply(r,o) \u001b[39mfor\u001b[39;00m r,c \u001b[39min\u001b[39;00m \u001b[39menumerate\u001b[39m(t) \u001b[39mfor\u001b[39;00m o \u001b[39min\u001b[39;00m \u001b[39mrange\u001b[39m(\u001b[39m1\u001b[39m,c\u001b[39m+\u001b[39m\u001b[39m1\u001b[39m)]\n\u001b[0;32m     <a href='vscode-notebook-cell:/c%3A/Users/vicin/Desktop/PoliTo/CompInt/lab2-nim.ipynb#X16sZmlsZQ%3D%3D?line=13'>14</a>\u001b[0m     \u001b[39mif\u001b[39;00m(\u001b[39mlen\u001b[39m(moves)\u001b[39m!=\u001b[39m\u001b[39m0\u001b[39m):\n\u001b[0;32m     <a href='vscode-notebook-cell:/c%3A/Users/vicin/Desktop/PoliTo/CompInt/lab2-nim.ipynb#X16sZmlsZQ%3D%3D?line=14'>15</a>\u001b[0m         \u001b[39mself\u001b[39m\u001b[39m.\u001b[39mgenome[t]\u001b[39m=\u001b[39mrandom\u001b[39m.\u001b[39mchoice(moves)\n",
      "\u001b[1;31mKeyboardInterrupt\u001b[0m: "
     ]
    }
   ],
   "source": [
    "logging.getLogger().setLevel(logging.INFO)\n",
    "logging.disable(logging.INFO)\n",
    "strategy = (vinzgorithm, optimal)\n",
    "\n",
    "nim = Nim(SIZE)\n",
    "\n",
    "last_man_standing=evolve(21)\n",
    "\n",
    "w0, w1=play(optimal, last_man_standing.strategy, nim, 100)\n",
    "\n",
    "# enum_state(nim)\n",
    "print(f\"Player 0 won: {w0*100}% of times Player 1 won: {w1*100}% of times\")\n"
   ]
  },
  {
   "cell_type": "code",
   "execution_count": null,
   "metadata": {},
   "outputs": [],
   "source": []
  },
  {
   "cell_type": "code",
   "execution_count": null,
   "metadata": {},
   "outputs": [],
   "source": []
  },
  {
   "cell_type": "code",
   "execution_count": null,
   "metadata": {},
   "outputs": [],
   "source": []
  }
 ],
 "metadata": {
  "kernelspec": {
   "display_name": "Python 3.10.7 ('ci22-dPIXJ0_o-py3.10')",
   "language": "python",
   "name": "python3"
  },
  "language_info": {
   "codemirror_mode": {
    "name": "ipython",
    "version": 3
   },
   "file_extension": ".py",
   "mimetype": "text/x-python",
   "name": "python",
   "nbconvert_exporter": "python",
   "pygments_lexer": "ipython3",
   "version": "3.10.11"
  },
  "vscode": {
   "interpreter": {
    "hash": "10197e8e2f2aa67e2c349105091c77f4cd384fce4877865f002d9ec653f96bc0"
   }
  }
 },
 "nbformat": 4,
 "nbformat_minor": 2
}
