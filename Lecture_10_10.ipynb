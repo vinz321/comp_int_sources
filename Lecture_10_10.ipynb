{
 "cells": [
  {
   "cell_type": "markdown",
   "metadata": {},
   "source": [
    "### Cover Set\n",
    "To rapresent states is a good procedure to use sets instead of arrays and vectors because sets are unordered.\n",
    "\n",
    "We need a set of the state we need and one for the states we don't need.\n",
    "\n",
    "The problem we are trying to solve is to find a state (which is a set of sets of True and False which means)"
   ]
  },
  {
   "cell_type": "code",
   "execution_count": 19,
   "metadata": {},
   "outputs": [],
   "source": [
    "from random import random\n",
    "from functools import reduce\n",
    "import numpy as np\n",
    "from queue import PriorityQueue\n",
    "from queue import LifoQueue\n",
    "from queue import SimpleQueue\n",
    "\n",
    "PROBLEM_SIZE=20\n",
    "NUM_SETS=512\n",
    "SETS=tuple(np.array([random() < .2 for _ in range(PROBLEM_SIZE)]) for _ in range(NUM_SETS))\n",
    "\n",
    "def goal_check(state):\n",
    "    return np.all(reduce(np.logical_or,[SETS[i] for i in state[0]],np.array([False for _ in range(PROBLEM_SIZE)])))\n",
    "\n",
    "def get_true_row(state):\n",
    "    return reduce(np.logical_or,[SETS[i] for i in state[0]],np.array([False for _ in range(PROBLEM_SIZE)]))\n",
    "\n",
    "def get_distance_from_state(state, action): # Cost For Greedy Solution\n",
    "    t=get_true_row(state)\n",
    "\n",
    "    res=np.logical_and(SETS[action], np.logical_not(t))\n",
    "    # if np.count_nonzero(t==True):\n",
    "    #     print(f\"State: {t}\")\n",
    "    #     print(f\"Action: {SETS[action]}\")\n",
    "    #     print(f\"Res: {res}\")\n",
    "    return np.count_nonzero(res==True)\n",
    "\n",
    "def get_distance_from_goal(state):  #Cost (Euristhic) For Informed Solution\n",
    "    t=get_true_row(state)\n",
    "    return np.count_nonzero(t==False)\n",
    "    \n",
    "def Solve( case):\n",
    "    frontier=PriorityQueue()\n",
    "    frontier.put((0,[set(), set(range(NUM_SETS))] , 0))\n",
    "\n",
    "    t=frontier.get()\n",
    "    current_state=t[1]\n",
    "    counter=0\n",
    "    while not goal_check(current_state):\n",
    "        counter=counter+1\n",
    "        \n",
    "        for action in current_state[1]:\n",
    "            new_state=(current_state[0] | {action}, current_state[1] - {action})\n",
    "\n",
    "            # --- Greedy Solution --- #\n",
    "            if(case==0):\n",
    "                frontier.put((t[2],new_state, t[2]))\n",
    "\n",
    "            # --- Informed Solution --- #\n",
    "            if(case==1):\n",
    "                frontier.put((get_distance_from_goal(new_state), new_state, t[2]))\n",
    "\n",
    "            # --- A* easy Solution --- #\n",
    "            if(case==2):\n",
    "                d_to_next_state=t[2]+1\n",
    "                frontier.put((get_distance_from_goal(new_state) + len(new_state[0]), new_state , t[2]))\n",
    "\n",
    "            # --- A* Solution --- #\n",
    "            if(case==3):\n",
    "                d_to_next_state=t[2]- get_distance_from_state(current_state,action)\n",
    "                frontier.put((get_distance_from_goal(new_state) + d_to_next_state, new_state, d_to_next_state))\n",
    "            \n",
    "\n",
    "        if goal_check(current_state):\n",
    "            break\n",
    "\n",
    "        t=frontier.get()\n",
    "        current_state=t[1]\n",
    "        \n",
    "\n",
    "    print(f\"Solved in {counter} steps\\n {current_state}\")\n",
    "    \n",
    "state=[set(range(NUM_SETS)), set()]\n"
   ]
  },
  {
   "cell_type": "markdown",
   "metadata": {},
   "source": [
    "# Adding a Cost\n",
    "What is out objective?\n",
    "To find a group of sets to cover all elements. <br/>\n",
    "Thus the shortest path will try to cover at each step as many elements as it can (to find a local optima).<br/>\n",
    "To find the shortest path to a solution, a cost function that gets the job done is *get_distance_from_state* which calculates how many True wpuld the action \"add\""
   ]
  },
  {
   "cell_type": "code",
   "execution_count": 20,
   "metadata": {},
   "outputs": [
    {
     "name": "stdout",
     "output_type": "stream",
     "text": [
      "Solved in 4 steps\n",
      " ({0, 355, 152, 222}, {1, 2, 3, 4, 5, 6, 7, 8, 9, 10, 11, 12, 13, 14, 15, 16, 17, 18, 19, 20, 21, 22, 23, 24, 25, 26, 27, 28, 29, 30, 31, 32, 33, 34, 35, 36, 37, 38, 39, 40, 41, 42, 43, 44, 45, 46, 47, 48, 49, 50, 51, 52, 53, 54, 55, 56, 57, 58, 59, 60, 61, 62, 63, 64, 65, 66, 67, 68, 69, 70, 71, 72, 73, 74, 75, 76, 77, 78, 79, 80, 81, 82, 83, 84, 85, 86, 87, 88, 89, 90, 91, 92, 93, 94, 95, 96, 97, 98, 99, 100, 101, 102, 103, 104, 105, 106, 107, 108, 109, 110, 111, 112, 113, 114, 115, 116, 117, 118, 119, 120, 121, 122, 123, 124, 125, 126, 127, 128, 129, 130, 131, 132, 133, 134, 135, 136, 137, 138, 139, 140, 141, 142, 143, 144, 145, 146, 147, 148, 149, 150, 151, 153, 154, 155, 156, 157, 158, 159, 160, 161, 162, 163, 164, 165, 166, 167, 168, 169, 170, 171, 172, 173, 174, 175, 176, 177, 178, 179, 180, 181, 182, 183, 184, 185, 186, 187, 188, 189, 190, 191, 192, 193, 194, 195, 196, 197, 198, 199, 200, 201, 202, 203, 204, 205, 206, 207, 208, 209, 210, 211, 212, 213, 214, 215, 216, 217, 218, 219, 220, 221, 223, 224, 225, 226, 227, 228, 229, 230, 231, 232, 233, 234, 235, 236, 237, 238, 239, 240, 241, 242, 243, 244, 245, 246, 247, 248, 249, 250, 251, 252, 253, 254, 255, 256, 257, 258, 259, 260, 261, 262, 263, 264, 265, 266, 267, 268, 269, 270, 271, 272, 273, 274, 275, 276, 277, 278, 279, 280, 281, 282, 283, 284, 285, 286, 287, 288, 289, 290, 291, 292, 293, 294, 295, 296, 297, 298, 299, 300, 301, 302, 303, 304, 305, 306, 307, 308, 309, 310, 311, 312, 313, 314, 315, 316, 317, 318, 319, 320, 321, 322, 323, 324, 325, 326, 327, 328, 329, 330, 331, 332, 333, 334, 335, 336, 337, 338, 339, 340, 341, 342, 343, 344, 345, 346, 347, 348, 349, 350, 351, 352, 353, 354, 356, 357, 358, 359, 360, 361, 362, 363, 364, 365, 366, 367, 368, 369, 370, 371, 372, 373, 374, 375, 376, 377, 378, 379, 380, 381, 382, 383, 384, 385, 386, 387, 388, 389, 390, 391, 392, 393, 394, 395, 396, 397, 398, 399, 400, 401, 402, 403, 404, 405, 406, 407, 408, 409, 410, 411, 412, 413, 414, 415, 416, 417, 418, 419, 420, 421, 422, 423, 424, 425, 426, 427, 428, 429, 430, 431, 432, 433, 434, 435, 436, 437, 438, 439, 440, 441, 442, 443, 444, 445, 446, 447, 448, 449, 450, 451, 452, 453, 454, 455, 456, 457, 458, 459, 460, 461, 462, 463, 464, 465, 466, 467, 468, 469, 470, 471, 472, 473, 474, 475, 476, 477, 478, 479, 480, 481, 482, 483, 484, 485, 486, 487, 488, 489, 490, 491, 492, 493, 494, 495, 496, 497, 498, 499, 500, 501, 502, 503, 504, 505, 506, 507, 508, 509, 510, 511})\n"
     ]
    }
   ],
   "source": [
    "assert goal_check(state),\"Not Solvable Problem\"\n",
    "\n",
    "frontier=PriorityQueue()\n",
    "frontier.put((0,[set(), set(range(NUM_SETS))] , 0))\n",
    "\n",
    "t=frontier.get()\n",
    "current_state=t[1]\n",
    "counter=0\n",
    "while not goal_check(current_state):\n",
    "    counter=counter+1\n",
    "    \n",
    "    for action in current_state[1]:\n",
    "        new_state=(current_state[0] | {action}, current_state[1] - {action})\n",
    "\n",
    "        d_to_next_state=t[2]- get_distance_from_state(current_state,action)\n",
    "        # --- Greedy Solution --- #\n",
    "        frontier.put((t[2],new_state, t[2]))\n",
    "\n",
    "        # --- Informed Solution --- #\n",
    "        #frontier.put((get_distance_from_goal(new_state), new_state, t[2]))\n",
    "\n",
    "        # --- A* easy Solution --- #\n",
    "        # d_to_next_state=t[2]+1\n",
    "        # frontier.put((get_distance_from_goal(new_state) + len(new_state[0]), new_state , d_to_next_state))\n",
    "\n",
    "        # --- A* Solution --- #\n",
    "        # d_to_next_state=t[2]- get_distance_from_state(current_state,action)\n",
    "        frontier.put((get_distance_from_goal(new_state) + d_to_next_state, new_state, d_to_next_state))\n",
    "        \n",
    "\n",
    "    if goal_check(current_state):\n",
    "        break\n",
    "\n",
    "    t=frontier.get()\n",
    "    current_state=t[1]\n",
    "    \n",
    "\n",
    "print(f\"Solved in {counter} steps\\n {current_state}\")"
   ]
  },
  {
   "cell_type": "markdown",
   "metadata": {},
   "source": [
    "We use that cost as the priority in our priority queue and it will find the shortest path."
   ]
  }
 ],
 "metadata": {
  "kernelspec": {
   "display_name": "venv",
   "language": "python",
   "name": "python3"
  },
  "language_info": {
   "codemirror_mode": {
    "name": "ipython",
    "version": 3
   },
   "file_extension": ".py",
   "mimetype": "text/x-python",
   "name": "python",
   "nbconvert_exporter": "python",
   "pygments_lexer": "ipython3",
   "version": "3.10.11"
  }
 },
 "nbformat": 4,
 "nbformat_minor": 2
}
