{
 "cells": [
  {
   "cell_type": "markdown",
   "metadata": {},
   "source": [
    "### Cover Set\n",
    "To rapresent states is a good procedure to use sets instead of arrays and vectors because sets are unordered.\n",
    "\n",
    "We need a set of the state we need and one for the states we don't need.\n",
    "\n",
    "The problem we are trying to solve is to find a state (which is a set of sets of True and False which means)"
   ]
  },
  {
   "cell_type": "code",
   "execution_count": 3,
   "metadata": {},
   "outputs": [],
   "source": [
    "from random import random\n",
    "from functools import reduce\n",
    "import numpy as np\n",
    "from queue import PriorityQueue\n",
    "from queue import LifoQueue\n",
    "from queue import SimpleQueue\n",
    "\n",
    "PROBLEM_SIZE=20\n",
    "NUM_SETS=64\n",
    "SETS=tuple(np.array([random() < .2 for _ in range(PROBLEM_SIZE)]) for _ in range(NUM_SETS))\n",
    "\n",
    "def goal_check(state):\n",
    "    return np.all(reduce(np.logical_or,[SETS[i] for i in state[0]],np.array([False for _ in range(PROBLEM_SIZE)])))\n",
    "\n",
    "state=[set(range(NUM_SETS)), set()]\n"
   ]
  },
  {
   "cell_type": "code",
   "execution_count": 4,
   "metadata": {},
   "outputs": [
    {
     "name": "stdout",
     "output_type": "stream",
     "text": [
      "Solved in 17 steps\n",
      " ({47, 48, 49, 50, 51, 52, 53, 54, 55, 56, 57, 58, 59, 60, 61, 62, 63}, {0, 1, 2, 3, 4, 5, 6, 7, 8, 9, 10, 11, 12, 13, 14, 15, 16, 17, 18, 19, 20, 21, 22, 23, 24, 25, 26, 27, 28, 29, 30, 31, 32, 33, 34, 35, 36, 37, 38, 39, 40, 41, 42, 43, 44, 45, 46})\n"
     ]
    }
   ],
   "source": [
    "assert goal_check(state),\"Not Solvable Problem\"\n",
    "\n",
    "frontier=LifoQueue()\n",
    "\n",
    "frontier.put([set(), set(range(NUM_SETS))])\n",
    "\n",
    "current_state=frontier.get()\n",
    "counter=0\n",
    "while not goal_check(current_state):\n",
    "    counter=counter+1\n",
    "    \n",
    "    for action in current_state[1]:\n",
    "        new_state=(current_state[0] | {action}, current_state[1]-{action})\n",
    "        frontier.put(new_state)\n",
    "    if goal_check(current_state):\n",
    "        break\n",
    "    current_state=frontier.get()\n",
    "\n",
    "print(f\"Solved in {counter} steps\\n {current_state}\")"
   ]
  }
 ],
 "metadata": {
  "kernelspec": {
   "display_name": "venv",
   "language": "python",
   "name": "python3"
  },
  "language_info": {
   "codemirror_mode": {
    "name": "ipython",
    "version": 3
   },
   "file_extension": ".py",
   "mimetype": "text/x-python",
   "name": "python",
   "nbconvert_exporter": "python",
   "pygments_lexer": "ipython3",
   "version": "3.10.11"
  }
 },
 "nbformat": 4,
 "nbformat_minor": 2
}
