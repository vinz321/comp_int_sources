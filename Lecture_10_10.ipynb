{
 "cells": [
  {
   "cell_type": "markdown",
   "metadata": {},
   "source": [
    "### Cover Set\n",
    "To rapresent states is a good procedure to use sets instead of arrays and vectors because sets are unordered.\n",
    "\n",
    "We need a set of the state we need and one for the states we don't need.\n",
    "\n",
    "The problem we are trying to solve is to find a state (which is a set of sets of True and False which means)"
   ]
  },
  {
   "cell_type": "code",
   "execution_count": 1,
   "metadata": {},
   "outputs": [],
   "source": [
    "from random import random\n",
    "from functools import reduce\n",
    "import numpy as np\n",
    "from queue import PriorityQueue\n",
    "from queue import LifoQueue\n",
    "from queue import SimpleQueue\n",
    "\n",
    "PROBLEM_SIZE=20\n",
    "NUM_SETS=64\n",
    "SETS=tuple(np.array([random() < .2 for _ in range(PROBLEM_SIZE)]) for _ in range(NUM_SETS))\n",
    "\n",
    "def goal_check(state):\n",
    "    return np.all(reduce(np.logical_or,[SETS[i] for i in state[0]],np.array([False for _ in range(PROBLEM_SIZE)])))\n",
    "\n",
    "state=[set(range(NUM_SETS)), set()]\n"
   ]
  },
  {
   "cell_type": "code",
   "execution_count": 2,
   "metadata": {},
   "outputs": [
    {
     "ename": "KeyboardInterrupt",
     "evalue": "",
     "output_type": "error",
     "traceback": [
      "\u001b[1;31m---------------------------------------------------------------------------\u001b[0m",
      "\u001b[1;31mKeyboardInterrupt\u001b[0m                         Traceback (most recent call last)",
      "\u001b[1;32mc:\\Users\\vicin\\Desktop\\PoliTo\\CompInt\\Lecture_10_10.ipynb Cell 3\u001b[0m line \u001b[0;36m1\n\u001b[0;32m     <a href='vscode-notebook-cell:/c%3A/Users/vicin/Desktop/PoliTo/CompInt/Lecture_10_10.ipynb#X10sZmlsZQ%3D%3D?line=11'>12</a>\u001b[0m \u001b[39mfor\u001b[39;00m action \u001b[39min\u001b[39;00m current_state[\u001b[39m1\u001b[39m]:\n\u001b[0;32m     <a href='vscode-notebook-cell:/c%3A/Users/vicin/Desktop/PoliTo/CompInt/Lecture_10_10.ipynb#X10sZmlsZQ%3D%3D?line=12'>13</a>\u001b[0m     new_state\u001b[39m=\u001b[39m(current_state[\u001b[39m0\u001b[39m] \u001b[39m|\u001b[39m {action}, current_state[\u001b[39m1\u001b[39m]\u001b[39m-\u001b[39m{action})\n\u001b[1;32m---> <a href='vscode-notebook-cell:/c%3A/Users/vicin/Desktop/PoliTo/CompInt/Lecture_10_10.ipynb#X10sZmlsZQ%3D%3D?line=13'>14</a>\u001b[0m     frontier\u001b[39m.\u001b[39mput(new_state)\n\u001b[0;32m     <a href='vscode-notebook-cell:/c%3A/Users/vicin/Desktop/PoliTo/CompInt/Lecture_10_10.ipynb#X10sZmlsZQ%3D%3D?line=14'>15</a>\u001b[0m \u001b[39mif\u001b[39;00m goal_check(current_state):\n\u001b[0;32m     <a href='vscode-notebook-cell:/c%3A/Users/vicin/Desktop/PoliTo/CompInt/Lecture_10_10.ipynb#X10sZmlsZQ%3D%3D?line=15'>16</a>\u001b[0m     \u001b[39mbreak\u001b[39;00m\n",
      "\u001b[1;31mKeyboardInterrupt\u001b[0m: "
     ]
    }
   ],
   "source": [
    "assert goal_check(state),\"Not Solvable Problem\"\n",
    "\n",
    "frontier=SimpleQueue()\n",
    "\n",
    "frontier.put([set(), set(range(NUM_SETS))])\n",
    "\n",
    "current_state=frontier.get()\n",
    "counter=0\n",
    "while not goal_check(current_state):\n",
    "    counter=counter+1\n",
    "    \n",
    "    for action in current_state[1]:\n",
    "        new_state=(current_state[0] | {action}, current_state[1]-{action})\n",
    "        frontier.put(new_state)\n",
    "    if goal_check(current_state):\n",
    "        break\n",
    "    current_state=frontier.get()\n",
    "\n",
    "print(f\"Solved in {counter} steps\\n {current_state}\")"
   ]
  }
 ],
 "metadata": {
  "kernelspec": {
   "display_name": "venv",
   "language": "python",
   "name": "python3"
  },
  "language_info": {
   "codemirror_mode": {
    "name": "ipython",
    "version": 3
   },
   "file_extension": ".py",
   "mimetype": "text/x-python",
   "name": "python",
   "nbconvert_exporter": "python",
   "pygments_lexer": "ipython3",
   "version": "3.10.11"
  }
 },
 "nbformat": 4,
 "nbformat_minor": 2
}
