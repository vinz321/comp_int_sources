{
 "cells": [
  {
   "cell_type": "markdown",
   "metadata": {},
   "source": [
    "### Cover Set\n",
    "To rapresent states is a good procedure to use sets instead of arrays and vectors because sets are unordered.\n",
    "\n",
    "We need a set of the state we need and one for the states we don't need.\n",
    "\n",
    "The problem we are trying to solve is to find a state (which is a set of sets of True and False which means)"
   ]
  },
  {
   "cell_type": "code",
   "execution_count": 10,
   "metadata": {},
   "outputs": [],
   "source": [
    "from random import random\n",
    "from functools import reduce\n",
    "import numpy as np\n",
    "from queue import PriorityQueue, LifoQueue, SimpleQueue\n",
    "from threading import Thread\n",
    "import time\n",
    "\n",
    "PROBLEM_SIZE=50\n",
    "NUM_SETS=4000\n",
    "SETS=tuple(np.array([random() < .1 for _ in range(PROBLEM_SIZE)]) for _ in range(NUM_SETS))\n",
    "\n",
    "def goal_check(state):\n",
    "    return np.all(reduce(np.logical_or,[SETS[i] for i in state[0]],np.array([False for _ in range(PROBLEM_SIZE)])))\n",
    "\n",
    "def get_true_row(state):\n",
    "    return reduce(np.logical_or,[SETS[i] for i in state[0]],np.array([False for _ in range(PROBLEM_SIZE)]))\n",
    "\n",
    "def get_distance_from_state(state, action): # Cost For Greedy Solution\n",
    "    t=get_true_row(state)\n",
    "\n",
    "    res=np.logical_and(SETS[action], np.logical_not(t))\n",
    "    # if np.count_nonzero(t==True):\n",
    "    #     print(f\"State: {t}\")\n",
    "    #     print(f\"Action: {SETS[action]}\")\n",
    "    #     print(f\"Res: {res}\")\n",
    "    return np.count_nonzero(res==True)\n",
    "\n",
    "def get_distance_from_goal(state):  #Cost (Euristhic) For Informed Solution\n",
    "    t=get_true_row(state)\n",
    "    return np.count_nonzero(t==False)\n",
    "    \n"
   ]
  },
  {
   "cell_type": "markdown",
   "metadata": {},
   "source": [
    "In the following code there are 4 possible solutions to achieve the goal. \n",
    "- Greedy finds the \"best solution\" in the frontieer\n",
    "- Informed findes the \"closest solution\" to the solution while not considering the cost\n",
    "- A* simple also consider a unit cost \n",
    "- A* complicated considers the best solution in the frontieer that is closer to the solution"
   ]
  },
  {
   "cell_type": "code",
   "execution_count": 11,
   "metadata": {},
   "outputs": [],
   "source": [
    "def Solve( case):\n",
    "\n",
    "    start=time.time()\n",
    "    frontier=PriorityQueue()\n",
    "    frontier.put((0,[set(), set(range(NUM_SETS))] , 0))\n",
    "\n",
    "    t=frontier.get()\n",
    "    current_state=t[1]\n",
    "    counter=0\n",
    "    name=\"\"\n",
    "\n",
    "    if case==0:\n",
    "        name=\"Greedy\"\n",
    "    if case==1:\n",
    "        name=\"Informed\"\n",
    "    if case==2:\n",
    "        name=\"A* simple\"\n",
    "    if case==3:\n",
    "        name=\"A* complicated\"\n",
    "    while not goal_check(current_state):\n",
    "        counter+=1\n",
    "        \n",
    "        for action in current_state[1]:\n",
    "            new_state=(current_state[0] | {action}, current_state[1] - {action})\n",
    "\n",
    "            # --- Greedy Solution --- #\n",
    "            if(case==0):\n",
    "                d_to_next_state=t[2]- get_distance_from_state(current_state,action)\n",
    "                frontier.put((d_to_next_state,new_state, d_to_next_state))\n",
    "\n",
    "            # --- Informed Solution --- #\n",
    "            if(case==1):\n",
    "                frontier.put((get_distance_from_goal(new_state), new_state, t[2]))\n",
    "\n",
    "            # --- A* easy Solution --- #\n",
    "            if(case==2):\n",
    "                frontier.put((get_distance_from_goal(new_state) + len(new_state[0]), new_state , t[2]))\n",
    "\n",
    "            # --- A* Solution --- #\n",
    "            if(case==3):\n",
    "                d_to_next_state=t[2]- get_distance_from_state(current_state,action)\n",
    "                frontier.put((get_distance_from_goal(new_state) + d_to_next_state, new_state, d_to_next_state))\n",
    "            \n",
    "\n",
    "        if goal_check(current_state):\n",
    "            break\n",
    "\n",
    "        t=frontier.get()\n",
    "        current_state=t[1]\n",
    "    \n",
    "    end=time.time()-start\n",
    "    \n",
    "    print(f\"Solved {name} in {counter} steps with {len(new_state[0])} tiles in {end} ms\\n \")\n",
    "    \n",
    "state=[set(range(NUM_SETS)), set()]\n"
   ]
  },
  {
   "cell_type": "markdown",
   "metadata": {},
   "source": [
    "The cost implemented for greedy solutions values as more expensive a step with lower number of \"True\" added to the state."
   ]
  },
  {
   "cell_type": "code",
   "execution_count": 12,
   "metadata": {},
   "outputs": [
    {
     "name": "stdout",
     "output_type": "stream",
     "text": [
      "Solved Greedy in 7 steps with 7 tiles in 4.001256942749023 ms\n",
      " \n",
      "Solved Informed in 7 steps with 7 tiles in 3.9079980850219727 ms\n",
      " \n",
      "Solved A* simple in 8 steps with 7 tiles in 5.185999870300293 ms\n",
      " \n",
      "Solved A* complicated in 7 steps with 7 tiles in 4.501993417739868 ms\n",
      " \n"
     ]
    }
   ],
   "source": [
    "assert goal_check(state),\"Not Solvable Problem\"\n",
    "\n",
    "Solve(0)\n",
    "Solve(1)\n",
    "Solve(2)\n",
    "Solve(3)\n",
    "# t1=Thread(target=Solve, args=[0])\n",
    "# t2=Thread(target=Solve, args=[1])\n",
    "# t3=Thread(target=Solve, args=[2])\n",
    "# t4=Thread(target=Solve, args=[3])\n",
    "\n",
    "# t1.start()\n",
    "# t2.start()\n",
    "# t3.start()\n",
    "# t4.start()\n",
    "\n",
    "# t1.join()\n",
    "# t2.join()\n",
    "# t3.join()\n",
    "# t4.join()\n"
   ]
  },
  {
   "cell_type": "markdown",
   "metadata": {},
   "source": [
    "To confront the solutions I'm starting different thread that measure the time between the start and the end of the algorithm (with the same set of sets). \\\\ \n",
    "It is possible to notice that in this case A* simple usually solves the problem in 1 or 2 steps more than the others."
   ]
  }
 ],
 "metadata": {
  "kernelspec": {
   "display_name": "venv",
   "language": "python",
   "name": "python3"
  },
  "language_info": {
   "codemirror_mode": {
    "name": "ipython",
    "version": 3
   },
   "file_extension": ".py",
   "mimetype": "text/x-python",
   "name": "python",
   "nbconvert_exporter": "python",
   "pygments_lexer": "ipython3",
   "version": "3.10.11"
  }
 },
 "nbformat": 4,
 "nbformat_minor": 2
}
