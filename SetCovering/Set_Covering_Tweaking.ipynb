{
 "cells": [
  {
   "cell_type": "code",
   "execution_count": 1,
   "metadata": {},
   "outputs": [
    {
     "name": "stdout",
     "output_type": "stream",
     "text": [
      "******************** -15\n",
      "******************** -14\n",
      "******************** -13\n"
     ]
    }
   ],
   "source": [
    "from random import random\n",
    "from functools import reduce\n",
    "import numpy as np\n",
    "from queue import PriorityQueue, LifoQueue, SimpleQueue\n",
    "from copy import copy\n",
    "\n",
    "PROBLEM_SIZE=20\n",
    "NUM_SETS=40\n",
    "SETS=tuple(np.array([random() < .2 for _ in range(PROBLEM_SIZE)]) for _ in range(NUM_SETS))\n",
    "\n",
    "def goal_check(state):\n",
    "    return np.all(reduce(np.logical_or,[SETS[i] for i in state[0]],np.array([False for _ in range(PROBLEM_SIZE)])))\n",
    "\n",
    "def covered(state):\n",
    "    return reduce(np.logical_or,[SETS[i] for i in state[0]], np.array([False for _ in range(PROBLEM_SIZE)]))\n",
    "\n",
    "def count_false(state):\n",
    "    covered=reduce(np.logical_or,[SETS[i] for i in state[0]], np.array([False for _ in range(PROBLEM_SIZE)]))\n",
    "    res=np.sum(covered==False)\n",
    "    return res\n",
    "\n",
    "def state_to_str(state):\n",
    "    c=covered(state)\n",
    "    string=\"\"\n",
    "    for i in c:\n",
    "        string+=\"*\" if i else \"_\"\n",
    "    return string\n",
    "\n",
    "def tweak(state):\n",
    "    new_state=copy(state)\n",
    "    action=int(random()*NUM_SETS)\n",
    "    new_state[0]^={action}\n",
    "    new_state[1]^={action}\n",
    "\n",
    "    if count_false(new_state)>0:\n",
    "        return new_state, -1000\n",
    "    else :\n",
    "        return new_state,-len(new_state[0])\n",
    "\n",
    "    \n",
    "current_state=[set(), set(range(NUM_SETS))]\n",
    "d=-1000\n",
    "for i in range(100):\n",
    "    new_state, cost =tweak(current_state)\n",
    "\n",
    "    if cost>d:\n",
    "        d=cost\n",
    "        current_state=new_state\n",
    "        \n",
    "        print(f\"{state_to_str(current_state)} {d}\")\n",
    "    \n"
   ]
  }
 ],
 "metadata": {
  "kernelspec": {
   "display_name": "venv",
   "language": "python",
   "name": "python3"
  },
  "language_info": {
   "codemirror_mode": {
    "name": "ipython",
    "version": 3
   },
   "file_extension": ".py",
   "mimetype": "text/x-python",
   "name": "python",
   "nbconvert_exporter": "python",
   "pygments_lexer": "ipython3",
   "version": "3.10.11"
  }
 },
 "nbformat": 4,
 "nbformat_minor": 2
}
