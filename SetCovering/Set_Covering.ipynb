{
 "cells": [
  {
   "cell_type": "markdown",
   "metadata": {},
   "source": [
    "### Set Covering\n",
    "To rapresent states is a good procedure to use sets instead of arrays and vectors because sets are unordered.\n",
    "\n",
    "We need a set for the tiles we need and one for the tiles we don't need.\n",
    "\n",
    "The problem we are trying to solve is to find a state (which is a set of sets of True and False which means)"
   ]
  },
  {
   "cell_type": "code",
   "execution_count": 18,
   "metadata": {},
   "outputs": [],
   "source": [
    "from random import random\n",
    "from functools import reduce\n",
    "import numpy as np\n",
    "from queue import PriorityQueue, LifoQueue, SimpleQueue\n",
    "from threading import Thread\n",
    "import time\n",
    "\n",
    "PROBLEM_SIZE=10\n",
    "NUM_SETS=40\n",
    "SETS=tuple(np.array([random() < .1 for _ in range(PROBLEM_SIZE)]) for _ in range(NUM_SETS))\n",
    "\n",
    "def goal_check(state):\n",
    "    return np.all(reduce(np.logical_or,[SETS[i] for i in state[0]],np.array([False for _ in range(PROBLEM_SIZE)])))\n",
    "\n",
    "def get_covered(state):\n",
    "    return reduce(np.logical_or,[SETS[i] for i in state[0]],np.array([False for _ in range(PROBLEM_SIZE)]))\n",
    "\n",
    "def get_distance_from_state(state, action): # Cost For Greedy Solution\n",
    "    covered=get_covered(state)\n",
    "\n",
    "    res=np.logical_and(SETS[action], np.logical_not(covered))\n",
    "    # if np.count_nonzero(t==True):\n",
    "    #     print(f\"State: {t}\")\n",
    "    #     print(f\"Action: {SETS[action]}\")\n",
    "    #     print(f\"Res: {res}\")\n",
    "    return np.count_nonzero(res==True)\n",
    "\n",
    "\n",
    "def get_distance_from_goal(state):  #Cost (Euristhic) For Informed Solution\n",
    "    t=get_covered(state)\n",
    "    return np.count_nonzero(t==False)\n",
    "    \n",
    "def get_common_elements(state, action):\n",
    "    covered=get_covered(state)\n",
    "    temp=np.count_nonzero(np.logical_and(covered, SETS[action])==True)\n",
    "    return temp\n",
    "def get_largest_tile(state):\n",
    "    covered=get_covered(state)\n",
    "\n",
    "    d=0\n",
    "    for _,i in enumerate(state[1]):\n",
    "        temp=np.count_nonzero( np.logical_and(SETS[i], np.logical_not(covered)) ==True)\n",
    "        if(temp>d):\n",
    "            d=temp\n",
    "    return d\n",
    "\n",
    "\n",
    "def state_to_str(state):\n",
    "    c=get_covered(state)\n",
    "    string=\"\"\n",
    "    for i in c:\n",
    "        string+=\"*\" if i else \"_\"\n",
    "    return string\n",
    "\n",
    "def set_to_str(set):\n",
    "    string=\"\"\n",
    "    for i in set:\n",
    "        string+=\"*\" if i else \"_\"\n",
    "    return string\n"
   ]
  },
  {
   "cell_type": "markdown",
   "metadata": {},
   "source": [
    "In the following code there are 4 possible solutions to achieve the goal. \n",
    "- Greedy finds the \"best solution\" in the frontieer\n",
    "- Informed findes the \"closest solution\" to the solution while not considering the cost\n",
    "- A* simple also consider a unit cost \n",
    "- A* complicated considers the best solution in the frontieer that is closer to the solution"
   ]
  },
  {
   "cell_type": "code",
   "execution_count": 19,
   "metadata": {},
   "outputs": [],
   "source": [
    "def Solve( case):\n",
    "\n",
    "    start=time.time()\n",
    "    frontier=PriorityQueue()\n",
    "    frontier.put((0,[set(), set(range(NUM_SETS))] , 0))\n",
    "\n",
    "    t=frontier.get()\n",
    "    current_state=t[1]\n",
    "    print(state_to_str(current_state))\n",
    "    \n",
    "    counter=0\n",
    "    name=\"\"\n",
    "\n",
    "    if case==0:\n",
    "        name=\"Greedy\"\n",
    "    if case==1:\n",
    "        name=\"Informed\"\n",
    "    if case==2:\n",
    "        name=\"A* simple\"\n",
    "    if case==3:\n",
    "        name=\"A* complicated\"\n",
    "    v=0\n",
    "    while not goal_check(current_state):\n",
    "        \n",
    "        counter+=1\n",
    "        \n",
    "        largest_tile=get_largest_tile(current_state)\n",
    "        \n",
    "        for action in current_state[1]:\n",
    "            new_state=(current_state[0] | {action}, current_state[1] - {action})\n",
    "\n",
    "            # --- Greedy Solution --- #\n",
    "            if(case==0):\n",
    "                d_to_next_state=t[2]- get_distance_from_state(current_state,action)\n",
    "                frontier.put((d_to_next_state,new_state, d_to_next_state))\n",
    "\n",
    "            # --- Informed Solution --- #\n",
    "            if(case==1):\n",
    "                frontier.put((get_distance_from_goal(new_state), new_state, t[2]))\n",
    "\n",
    "            # --- A* easy Solution --- #\n",
    "            if(case==2):\n",
    "                \n",
    "                if largest_tile!=0:\n",
    "                    v=get_distance_from_goal(new_state)//largest_tile + len(new_state[0])\n",
    "\n",
    "                    frontier.put((v, new_state , v))\n",
    "\n",
    "            # --- A* wrong Solution  --- #\n",
    "            if(case==3):\n",
    "                d_to_next_state=t[2]- get_distance_from_state(current_state,action)\n",
    "                if(d_to_next_state!=0):\n",
    "                    frontier.put((  d_to_next_state+len(new_state[0]), new_state, d_to_next_state))\n",
    "            \n",
    "\n",
    "        if goal_check(current_state):\n",
    "            break\n",
    "\n",
    "        t=frontier.get()\n",
    "        current_state=t[1]\n",
    "    \n",
    "    end=time.time()-start\n",
    "    \n",
    "    print(f\"Solved {name} in {counter} steps with {len(new_state[0])} tiles in {end} ms\\n \")\n",
    "    \n",
    "state=[set(range(NUM_SETS)), set()]\n"
   ]
  },
  {
   "cell_type": "markdown",
   "metadata": {},
   "source": [
    "The cost implemented for greedy solutions values as more expensive a step with lower number of \"True\" added to the state."
   ]
  },
  {
   "cell_type": "code",
   "execution_count": 20,
   "metadata": {},
   "outputs": [
    {
     "name": "stdout",
     "output_type": "stream",
     "text": [
      "__________\n",
      "Solved Greedy in 6 steps with 6 tiles in 0.004999876022338867 ms\n",
      " \n",
      "__________\n",
      "Solved Informed in 6 steps with 6 tiles in 0.0030012130737304688 ms\n",
      " \n",
      "__________\n"
     ]
    },
    {
     "ename": "",
     "evalue": "",
     "output_type": "error",
     "traceback": [
      "\u001b[1;31mFailed to interrupt the Kernel. \n",
      "\u001b[1;31mUnable to create process using '\"C:\\Users\\vicin\\AppData\\Local\\Microsoft\\WindowsApps\\PythonSoftwareFoundation.Python.3.10_qbz5n2kfra8p0\\python.exe\" -m ipykernel_launcher --ip=127.0.0.1 --stdin=9008 --control=9006 --hb=9005 \"--Session.signature_scheme=\\\"hmac-sha256\\\"\" \"--Session.key=b\\\"ff4ad479-3abf-4761-8930-b034466293f1\\\"\" --shell=9007 \"--transport=\\\"tcp\\\"\" --iopub=9009 --f=c:\\Users\\vicin\\AppData\\Roaming\\jupyter\\runtime\\kernel-v2-32728yvvAwzAfp0oZ.json'. \n",
      "\u001b[1;31mView Jupyter <a href='command:jupyter.viewOutput'>log</a> for further details."
     ]
    }
   ],
   "source": [
    "assert goal_check(state),\"Not Solvable Problem\"\n",
    "\n",
    "Solve(0)\n",
    "Solve(1)\n",
    "Solve(3)\n",
    "Solve(2)\n",
    "# t1=Thread(target=Solve, args=[0])\n",
    "# t2=Thread(target=Solve, args=[1])\n",
    "# t3=Thread(target=Solve, args=[2])\n",
    "# t4=Thread(target=Solve, args=[3])\n",
    "\n",
    "# t1.start()\n",
    "# t2.start()\n",
    "# t3.start()\n",
    "# t4.start()\n",
    "\n",
    "# t1.join()\n",
    "# t2.join()\n",
    "# t3.join()\n",
    "# t4.join()\n"
   ]
  },
  {
   "cell_type": "markdown",
   "metadata": {},
   "source": [
    "To confront the solutions I'm starting different thread that measure the time between the start and the end of the algorithm (with the same set of sets). \\\\ \n",
    "It is possible to notice that in this case A* simple usually solves the problem in 1 or 2 steps more than the others."
   ]
  },
  {
   "cell_type": "markdown",
   "metadata": {},
   "source": [
    "## A* correct solution\n",
    "\n",
    "Actually the Heuristic chosen for A* is not admissible, hencefor what has been said is not valid. \\\n",
    "A possible herusitic is looking for the largest set and dividing the remaining \"True\"s by that size.\\\n",
    "For this reason at each iteration the heuristic is calculated as the remaining elements to cover over the maximum$\\frac{get_distance_from_goal()} $"
   ]
  },
  {
   "cell_type": "markdown",
   "metadata": {},
   "source": [
    "## A* wrong\n",
    "\n",
    "Among the solution the A* wrong solution takes into account both the distance from goal (how many falses are there) and the distance from the previous state, which still leads to a solution, but the solution isn't optimal and is not A*, since the heursitic is not admissible and the cost easly overcomes the heuristic, thus it mostly behaves as a greedy solution\n"
   ]
  },
  {
   "cell_type": "markdown",
   "metadata": {},
   "source": []
  }
 ],
 "metadata": {
  "kernelspec": {
   "display_name": "venv",
   "language": "python",
   "name": "python3"
  },
  "language_info": {
   "codemirror_mode": {
    "name": "ipython",
    "version": 3
   },
   "file_extension": ".py",
   "mimetype": "text/x-python",
   "name": "python",
   "nbconvert_exporter": "python",
   "pygments_lexer": "ipython3",
   "version": "3.10.11"
  }
 },
 "nbformat": 4,
 "nbformat_minor": 2
}
